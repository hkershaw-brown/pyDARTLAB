{
 "cells": [
  {
   "cell_type": "code",
   "execution_count": 1,
   "metadata": {},
   "outputs": [
    {
     "data": {
      "application/vnd.jupyter.widget-view+json": {
       "model_id": "98ffc8645bef48b6976caa32f4f401b7",
       "version_major": 2,
       "version_minor": 0
      },
      "text/plain": [
       "interactive(children=(FloatSlider(value=8.0, description='F', max=20.0), IntSlider(value=100, description='num…"
      ]
     },
     "metadata": {},
     "output_type": "display_data"
    }
   ],
   "source": [
    "import numpy as np\n",
    "import matplotlib.pyplot as plt\n",
    "from ipywidgets import interact, FloatSlider\n",
    "import ipywidgets as widgets\n",
    "\n",
    "def lorenz_96(x, F):\n",
    "    \"\"\"Lorenz 96 model with three variables\"\"\"\n",
    "    # Number of variables\n",
    "    N = len(x)\n",
    "    # Derivatives\n",
    "    dxdt = np.zeros(N)\n",
    "    for i in range(N):\n",
    "        dxdt[i] = (x[(i+1) % N] - x[i-2]) * x[i-1] - x[i] + F\n",
    "    return dxdt\n",
    "\n",
    "def run_lorenz_96(F=8.0, x0=None, num_steps=100, dt=0.01):\n",
    "    if x0 is None:\n",
    "        x0 = np.random.rand(10) * 10\n",
    "    xs = [x0]\n",
    "    for _ in range(num_steps):\n",
    "        x_next = xs[-1] + lorenz_96(xs[-1], F) * dt\n",
    "        xs.append(x_next)\n",
    "    return np.array(xs)\n",
    "\n",
    "def plot_lorenz_96(xs):\n",
    "    plt.figure(figsize=(10, 6))\n",
    "    for i in range(xs.shape[1]):\n",
    "        plt.plot(xs[:, i], label=f'x{i+1}')\n",
    "    plt.xlabel('Time')\n",
    "    plt.ylabel('Value')\n",
    "    plt.legend()\n",
    "    plt.show()\n",
    "\n",
    "@interact\n",
    "def update_lorenz_96(F=FloatSlider(value=8.0, min=0, max=20, step=0.1),\n",
    "                      num_steps=widgets.IntSlider(value=100, min=50, max=500, step=50),\n",
    "                      dt=FloatSlider(value=0.01, min=0.001, max=0.1, step=0.001)):\n",
    "    x0 = np.random.rand(10) * 10  # Initial condition\n",
    "    xs = run_lorenz_96(F=F, x0=x0, num_steps=num_steps, dt=dt)\n",
    "    plot_lorenz_96(xs)"
   ]
  }
 ],
 "metadata": {
  "kernelspec": {
   "display_name": "pylab",
   "language": "python",
   "name": "python3"
  },
  "language_info": {
   "codemirror_mode": {
    "name": "ipython",
    "version": 3
   },
   "file_extension": ".py",
   "mimetype": "text/x-python",
   "name": "python",
   "nbconvert_exporter": "python",
   "pygments_lexer": "ipython3",
   "version": "3.9.6"
  }
 },
 "nbformat": 4,
 "nbformat_minor": 2
}
