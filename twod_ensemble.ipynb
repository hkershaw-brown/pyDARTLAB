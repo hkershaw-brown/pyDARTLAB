{
 "cells": [
  {
   "cell_type": "code",
   "execution_count": 47,
   "metadata": {},
   "outputs": [
    {
     "data": {
      "application/vnd.jupyter.widget-view+json": {
       "model_id": "19587c32eea6449c828b8be293ab24e0",
       "version_major": 2,
       "version_minor": 0
      },
      "text/plain": [
       "HBox(children=(VBox(children=(Output(), Output())), Output()))"
      ]
     },
     "metadata": {},
     "output_type": "display_data"
    },
    {
     "data": {
      "application/vnd.jupyter.widget-view+json": {
       "model_id": "acda7303f1cb4dcebe56dd08a14d7aef",
       "version_major": 2,
       "version_minor": 0
      },
      "text/plain": [
       "interactive(children=(FloatSlider(value=1.0, description='Frequency:', max=5.0, min=0.1), Output()), _dom_clas…"
      ]
     },
     "execution_count": 47,
     "metadata": {},
     "output_type": "execute_result"
    }
   ],
   "source": [
    "import numpy as np\n",
    "import matplotlib.pyplot as plt\n",
    "from ipywidgets import interactive, HBox, VBox, Output, FloatSlider\n",
    "import ipywidgets as widgets\n",
    "\n",
    "# Function to update plots\n",
    "def update_plots(freq):\n",
    "\n",
    "    # Step 1: Generate sample data\n",
    "    np.random.seed(0)  # For reproducibility\n",
    "    x = np.random.rand(100) * 10  # Unobserved variable\n",
    "    y = 2.5 * x + np.random.randn(100) * 2  # Observed quantity with some noise\n",
    "\n",
    "    # Step 2: Calculate best fit line\n",
    "    slope, intercept = np.polyfit(x, y, 1)\n",
    "    best_fit_y = slope * x + intercept\n",
    "\n",
    "    # Clear previous outputs\n",
    "    out1.clear_output(wait=True)\n",
    "    out2.clear_output(wait=True)\n",
    "    out3.clear_output(wait=True)\n",
    "    \n",
    "    # Plot 1\n",
    "    with out1:\n",
    "        fig, ax = plt.subplots()\n",
    "        # Step 3: Plot data and best fit line\n",
    "        #plt.figure(figsize=(10, 6))\n",
    "        plt.scatter(x, y, label='Data Points')\n",
    "        plt.plot(x, best_fit_y, color='red', label='Best Fit Line')\n",
    "        plt.xlabel('Unobserved Variable')\n",
    "        plt.ylabel('Observed Quantity')\n",
    "        plt.legend()\n",
    "        plt.title('Observed Quantity by Unobserved Variable')\n",
    "        plt.show()\n",
    "    \n",
    "    # Plot 2\n",
    "    with out2:\n",
    "        fig, ax = plt.subplots()\n",
    "        ax.plot(x, y)\n",
    "        plt.title('Plot 2')\n",
    "        plt.show()\n",
    "\n",
    "    # marginal\n",
    "    with out3:\n",
    "        fig, ax = plt.subplots()\n",
    "        plt.figure(figsize=(10, 2))\n",
    "        ax.plot(x, y)\n",
    "        plt.xlabel('Observed Quantity')\n",
    "        plt.show()\n",
    "\n",
    "# Create two outputs for the plots\n",
    "out1 = Output()\n",
    "out2 = Output()\n",
    "out3 = Output()\n",
    "\n",
    "# Create a slider\n",
    "freq_slider = FloatSlider(value=1.0, min=0.1, max=5.0, step=0.1, description='Frequency:')\n",
    "\n",
    "# Step 1: Stack plot1 and plot3 vertically\n",
    "vbox_for_plot1_and_plot3 = VBox([out1, out3])\n",
    "\n",
    "# Step 2: Place the VBox from step 1 next to plot2 horizontally\n",
    "final_layout = HBox([vbox_for_plot1_and_plot3, out2])\n",
    "\n",
    "# Display the final layout\n",
    "display(final_layout)\n",
    "\n",
    "# Call update_plots function when the value of the slider changes\n",
    "interactive(update_plots, freq=freq_slider)"
   ]
  },
  {
   "cell_type": "code",
   "execution_count": null,
   "metadata": {},
   "outputs": [],
   "source": []
  }
 ],
 "metadata": {
  "kernelspec": {
   "display_name": "pylab",
   "language": "python",
   "name": "python3"
  },
  "language_info": {
   "codemirror_mode": {
    "name": "ipython",
    "version": 3
   },
   "file_extension": ".py",
   "mimetype": "text/x-python",
   "name": "python",
   "nbconvert_exporter": "python",
   "pygments_lexer": "ipython3",
   "version": "3.9.6"
  }
 },
 "nbformat": 4,
 "nbformat_minor": 2
}
