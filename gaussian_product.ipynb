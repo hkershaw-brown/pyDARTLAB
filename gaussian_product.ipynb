{
 "cells": [
  {
   "cell_type": "code",
   "execution_count": 1,
   "metadata": {},
   "outputs": [
    {
     "data": {
      "application/vnd.jupyter.widget-view+json": {
       "model_id": "84e9be4c80e843f79c26bf66c5057e97",
       "version_major": 2,
       "version_minor": 0
      },
      "text/plain": [
       "interactive(children=(FloatSlider(value=0.0, description='Prior Mean', layout=Layout(width='500px'), max=5.0, …"
      ]
     },
     "metadata": {},
     "output_type": "display_data"
    }
   ],
   "source": [
    "# Import necessary libraries\n",
    "import numpy as np\n",
    "import matplotlib.pyplot as plt\n",
    "from ipywidgets import interactive, FloatSlider, HBox, VBox, Output\n",
    "import ipywidgets as widgets\n",
    "\n",
    "# Define the Gaussian function\n",
    "def gaussian(x, mu, sigma):\n",
    "    return (1.0 / np.sqrt(2 * np.pi * sigma**2)) * np.exp(-((x - mu)**2) / (2 * sigma**2))\n",
    "\n",
    "# Calculate the posterior\n",
    "def calculate_posterior(mu1, sigma1, mu2, sigma2):\n",
    "    posterior_sigma = 1.0 / np.sqrt(1.0/sigma1**2 + 1.0/sigma2**2)\n",
    "    posterior_mu = (mu1/sigma1**2 + mu2/sigma2**2) * posterior_sigma**2\n",
    "    return posterior_mu, posterior_sigma\n",
    "\n",
    "# Plotting function\n",
    "def update_plot(mu_prior, sigma_prior, mu_likelihood, sigma_likelihood):\n",
    "    x = np.linspace(-10, 10, 1000)\n",
    "    prior = gaussian(x, mu_prior, sigma_prior)\n",
    "    likelihood = gaussian(x, mu_likelihood, sigma_likelihood)\n",
    "    mu_posterior, sigma_posterior = calculate_posterior(mu_prior, sigma_prior, mu_likelihood, sigma_likelihood)\n",
    "    posterior = gaussian(x, mu_posterior, sigma_posterior)\n",
    "    \n",
    "    plt.figure(figsize=(10, 6))\n",
    "    plt.plot(x, prior, label='Prior', color='green')\n",
    "    plt.plot(x, likelihood, label='Likelihood', color='red')\n",
    "    plt.plot(x, posterior, label='Posterior', color='blue')\n",
    "    plt.legend()\n",
    "    plt.xlabel('x')\n",
    "    plt.ylabel('Probability Density')\n",
    "    plt.title('Gaussian Posterior')\n",
    "    plt.show()\n",
    "\n",
    "# Adjust the width in the description_layout\n",
    "slider_layout = widgets.Layout(width='500px')  # Increase the width as needed\n",
    "#HBox([Label('A too long description'), IntSlider()])\n",
    "style = {'description_width': '130px'}\n",
    "\n",
    "mu_prior_slider = FloatSlider(min=-5, max=5, step=0.1, value=0, description='Prior Mean', layout=slider_layout, style=style)\n",
    "sigma_prior_slider = FloatSlider(min=0.1, max=5, step=0.1, value=1, description='Prior SD', layout=slider_layout, style=style)\n",
    "mu_likelihood_slider = FloatSlider(min=-5, max=5, step=0.1, value=1, description='Observation', layout=slider_layout, style=style)\n",
    "sigma_likelihood_slider = FloatSlider(min=0.1, max=5, step=0.1, value=1, description='Observation Error SD', layout=slider_layout, style=style)\n",
    "\n",
    "out = interactive(update_plot, mu_prior=mu_prior_slider, sigma_prior=sigma_prior_slider, mu_likelihood=mu_likelihood_slider, sigma_likelihood=sigma_likelihood_slider)\n",
    "\n",
    "\n",
    "# Display the GUI\n",
    "display(out)"
   ]
  }
 ],
 "metadata": {
  "kernelspec": {
   "display_name": "pylab",
   "language": "python",
   "name": "python3"
  },
  "language_info": {
   "codemirror_mode": {
    "name": "ipython",
    "version": 3
   },
   "file_extension": ".py",
   "mimetype": "text/x-python",
   "name": "python",
   "nbconvert_exporter": "python",
   "pygments_lexer": "ipython3",
   "version": "3.9.6"
  }
 },
 "nbformat": 4,
 "nbformat_minor": 2
}
