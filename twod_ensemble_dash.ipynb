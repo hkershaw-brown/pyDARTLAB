{
 "cells": [
  {
   "cell_type": "code",
   "execution_count": 6,
   "metadata": {},
   "outputs": [
    {
     "name": "stderr",
     "output_type": "stream",
     "text": [
      "/Users/hkershaw/DART/Projects/pyDART_LAB/pylab/lib/python3.9/site-packages/urllib3/__init__.py:35: NotOpenSSLWarning: urllib3 v2 only supports OpenSSL 1.1.1+, currently the 'ssl' module is compiled with 'LibreSSL 2.8.3'. See: https://github.com/urllib3/urllib3/issues/3020\n",
      "  warnings.warn(\n"
     ]
    },
    {
     "data": {
      "text/html": [
       "\n",
       "        <iframe\n",
       "            width=\"100%\"\n",
       "            height=\"650\"\n",
       "            src=\"http://127.0.0.1:8050/\"\n",
       "            frameborder=\"0\"\n",
       "            allowfullscreen\n",
       "            \n",
       "        ></iframe>\n",
       "        "
      ],
      "text/plain": [
       "<IPython.lib.display.IFrame at 0x17fd49910>"
      ]
     },
     "metadata": {},
     "output_type": "display_data"
    }
   ],
   "source": [
    "import dash\n",
    "from dash import html, dcc\n",
    "from dash.dependencies import Input, Output, State\n",
    "\n",
    "# Initialize the Dash app\n",
    "app = dash.Dash(__name__)\n",
    "\n",
    "# Define the layout of the app\n",
    "app.layout = html.Div([\n",
    "    html.Button('Create New Ensemble', id='create-ensemble', n_clicks=0),\n",
    "    html.Button('Update Ensemble', id='update-ensemble', n_clicks=0, disabled=True),\n",
    "    dcc.RadioItems(\n",
    "        options=[\n",
    "            {'label': 'Option 1', 'value': 'OPT1'},\n",
    "            {'label': 'Option 2', 'value': 'OPT2'},\n",
    "            {'label': 'Option 3', 'value': 'OPT3'}\n",
    "        ],\n",
    "        id='assimilation-options',\n",
    "        value='OPT1',  # Default value\n",
    "        style={'display': 'none'}  # Initially hidden, similar to 'Visible','off'\n",
    "    ),\n",
    "    html.Div(id='output-container')\n",
    "])\n",
    "\n",
    "# Callback for creating an ensemble\n",
    "@app.callback(\n",
    "    Output('update-ensemble', 'disabled'),\n",
    "    Input('create-ensemble', 'n_clicks')\n",
    ")\n",
    "def create_ensemble(n_clicks):\n",
    "    if n_clicks > 0:\n",
    "        return False  # Enable the 'Update Ensemble' button\n",
    "    return True\n",
    "\n",
    "# Callback for updating the ensemble\n",
    "@app.callback(\n",
    "    Output('output-container', 'children'),\n",
    "    Input('update-ensemble', 'n_clicks'),\n",
    "    prevent_initial_call=True  # Prevent the callback from firing upon app initialization\n",
    ")\n",
    "def update_ensemble(n_clicks):\n",
    "    return f'Ensemble updated {n_clicks} times.'\n",
    "\n",
    "# Callback to show assimilation options when the app starts\n",
    "@app.callback(\n",
    "    Output('assimilation-options', 'style'),\n",
    "    Input('create-ensemble', 'n_clicks')\n",
    ")\n",
    "def show_assimilation_options(n_clicks):\n",
    "    if n_clicks > 0:\n",
    "        return {}  # Make the radio items visible\n",
    "    return {'display': 'none'}\n",
    "\n",
    "# Run the app\n",
    "if __name__ == '__main__':\n",
    "    app.run_server(debug=True)"
   ]
  }
 ],
 "metadata": {
  "kernelspec": {
   "display_name": "pylab",
   "language": "python",
   "name": "python3"
  },
  "language_info": {
   "codemirror_mode": {
    "name": "ipython",
    "version": 3
   },
   "file_extension": ".py",
   "mimetype": "text/x-python",
   "name": "python",
   "nbconvert_exporter": "python",
   "pygments_lexer": "ipython3",
   "version": "3.9.6"
  }
 },
 "nbformat": 4,
 "nbformat_minor": 2
}
