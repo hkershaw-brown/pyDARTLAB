{
 "cells": [
  {
   "cell_type": "code",
   "execution_count": null,
   "metadata": {},
   "outputs": [],
   "source": [
    "import matplotlib.pyplot as plt\n",
    "import dartlabplot as dlp\n",
    "%matplotlib widget\n",
    "\n",
    "# Example usage\n",
    "fig, ax = plt.subplots()\n",
    "plotter = dlp.dartlabplot(ax, [0,10])\n",
    "\n",
    "mu = 5\n",
    "sigma = 1\n",
    "plotter.plot_observation(mu, sigma)\n",
    "\n",
    "plotter.add_filter_options([0.1, 0.1, 0.3, 0.3])\n",
    "plotter.add_update_button([0.4, 0.1, 0.3, 0.3])\n",
    "\n",
    "plt.show()"
   ]
  },
  {
   "cell_type": "code",
   "execution_count": null,
   "metadata": {},
   "outputs": [],
   "source": [
    "plotter.add_update_button_conn_id"
   ]
  },
  {
   "cell_type": "code",
   "execution_count": null,
   "metadata": {},
   "outputs": [],
   "source": []
  }
 ],
 "metadata": {
  "kernelspec": {
   "display_name": "pylab",
   "language": "python",
   "name": "python3"
  },
  "language_info": {
   "codemirror_mode": {
    "name": "ipython",
    "version": 3
   },
   "file_extension": ".py",
   "mimetype": "text/x-python",
   "name": "python",
   "nbconvert_exporter": "python",
   "pygments_lexer": "ipython3",
   "version": "3.9.6"
  }
 },
 "nbformat": 4,
 "nbformat_minor": 2
}
